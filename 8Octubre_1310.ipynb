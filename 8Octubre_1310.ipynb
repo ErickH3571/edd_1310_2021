{
  "nbformat": 4,
  "nbformat_minor": 0,
  "metadata": {
    "colab": {
      "name": "8Octubre_1310.ipynb",
      "provenance": [],
      "authorship_tag": "ABX9TyOg7rK5LcrspY8fFcZ3s+aa",
      "include_colab_link": true
    },
    "kernelspec": {
      "name": "python3",
      "display_name": "Python 3"
    }
  },
  "cells": [
    {
      "cell_type": "markdown",
      "metadata": {
        "id": "view-in-github",
        "colab_type": "text"
      },
      "source": [
        "<a href=\"https://colab.research.google.com/github/ErickH3571/edd_1310_2021/blob/master/8Octubre_1310.ipynb\" target=\"_parent\"><img src=\"https://colab.research.google.com/assets/colab-badge.svg\" alt=\"Open In Colab\"/></a>"
      ]
    },
    {
      "cell_type": "code",
      "metadata": {
        "id": "G5Xncv6K_W7e",
        "outputId": "1dd4772e-9f90-4c7e-9574-5bbc3c851471",
        "colab": {
          "base_uri": "https://localhost:8080/",
          "height": 54
        }
      },
      "source": [
        "#Listas Multi-Dimension\n",
        "monitores =[[\"Samsung\",\"17.3 \\\"\",1024],[\"BenQ\",\"40\\\"\",2048]]\n",
        "procesadores = [[\"Intel\",\"i7\",3.4],[\"AMD\",\"razzer\",3.3],[\"Intel\",\"i3\",3.1]]\n",
        "memorias = [[\"Kingston\", \"8GB\",\"DDR4\"],[\"Kingston\", \"16GB\",\"DDR3\"],[\"ADATA\", \"32GB\",\"DDR4\"]]\n",
        "\n",
        "componentes = [monitores,procesadores,memorias]\n",
        "\n",
        "print(componentes)"
      ],
      "execution_count": null,
      "outputs": [
        {
          "output_type": "stream",
          "text": [
            "[[['Samsung', '17.3 \"', 1024], ['BenQ', '40\"', 2048]], [['Intel', 'i7', 3.4], ['AMD', 'razzer', 3.3], ['Intel', 'i3', 3.1]], [['Kingston', '8GB', 'DDR4'], ['Kingston', '16GB', 'DDR3'], ['ADATA', '32GB', 'DDR4']]]\n"
          ],
          "name": "stdout"
        }
      ]
    },
    {
      "cell_type": "code",
      "metadata": {
        "id": "NRthZx2B_5ki",
        "outputId": "da2797a8-49aa-4fb5-f6c6-e772afad5cb0",
        "colab": {
          "base_uri": "https://localhost:8080/",
          "height": 102
        }
      },
      "source": [
        "print(componentes[1])\n",
        "print(componentes[2][1][1]) \n",
        "print(int(componentes[0][1][2])*2) #Multiplicar un valor de una lista\n",
        "print(componentes[1][1][1][1:4:1])\n",
        "print(componentes[2][2][0].lower())  #Para convertir en minúsculas "
      ],
      "execution_count": null,
      "outputs": [
        {
          "output_type": "stream",
          "text": [
            "[['Intel', 'i7', 3.4], ['AMD', 'razzer', 3.3], ['Intel', 'i3', 3.1]]\n",
            "16GB\n",
            "4096\n",
            "azz\n",
            "adata\n"
          ],
          "name": "stdout"
        }
      ]
    },
    {
      "cell_type": "code",
      "metadata": {
        "id": "tVIR_TohNT2r",
        "outputId": "dbc7c5f1-2b2d-428d-906d-9837f155213f",
        "colab": {
          "base_uri": "https://localhost:8080/",
          "height": 85
        }
      },
      "source": [
        "#copiar listas\n",
        "# extender listas\n",
        "frutas =[\"manzana\",\"pera\"]\n",
        "otras_frutas = [\"aguacate\", \"sandia\"]\n",
        "# print(frutas + otras_frutas)  # no modifica la lista final , solo se le agregan elementos\n",
        "# print(frutas) \n",
        "\n",
        "# + sobre listas\n",
        "#frutas = frutas + otras_frutas\n",
        "#print(frutas)\n",
        "#funcion extend\n",
        "#frutas.extend(otras_frutas)\n",
        "#print(frutas)\n",
        "#frutas.append(otras_frutas)\n",
        "#print(frutas)\n",
        "\n",
        "\n",
        "#copiar\n",
        "colores = [\"azul\",\"rojo\",\"verde\",\"violeta\"]\n",
        "otros_colores = colores\n",
        "print(colores)\n",
        "print(otros_colores)\n",
        "otros_colores.append(\"Rosa\")\n",
        "print(colores)\n",
        "print(otros_colores)"
      ],
      "execution_count": null,
      "outputs": [
        {
          "output_type": "stream",
          "text": [
            "['azul', 'rojo', 'verde', 'violeta']\n",
            "['azul', 'rojo', 'verde', 'violeta']\n",
            "['azul', 'rojo', 'verde', 'violeta', 'Rosa']\n",
            "['azul', 'rojo', 'verde', 'violeta', 'Rosa']\n"
          ],
          "name": "stdout"
        }
      ]
    },
    {
      "cell_type": "code",
      "metadata": {
        "id": "rlbDuoSfSSBt",
        "outputId": "78f4ae6e-cb74-4968-b403-8c469ab8e855",
        "colab": {
          "base_uri": "https://localhost:8080/",
          "height": 34
        }
      },
      "source": [
        "# UNPACKING DE LISTAS\n",
        "alumno = [\"Jesus\",\"Perez\",\"Herrera\",22, \"ICO\", 10.0]\n",
        "#nombre = alumno[0]\n",
        "#paterno = alumno[1]\n",
        "# etc\n",
        "nombre,paterno,materno,edad,carrera,promedio = alumno\n",
        "print(f\"Alumno:{nombre} Carrera:{carrera} Promedio ={promedio}\")"
      ],
      "execution_count": 13,
      "outputs": [
        {
          "output_type": "stream",
          "text": [
            "Alumno:Jesus Carrera:ICO Promedio =10.0\n"
          ],
          "name": "stdout"
        }
      ]
    },
    {
      "cell_type": "markdown",
      "metadata": {
        "id": "By1oNOWUSUAR"
      },
      "source": [
        "#Tuplas\n",
        "1. Se declaran con ()\n",
        "2. Selector con []\n",
        "3. No son mutables"
      ]
    },
    {
      "cell_type": "code",
      "metadata": {
        "id": "l_F7flrYShma",
        "outputId": "7ae62350-df9d-45f3-fb01-84f9b8990617",
        "colab": {
          "base_uri": "https://localhost:8080/",
          "height": 51
        }
      },
      "source": [
        "precios = (99.99, 49.9, 12.45, 23.3, 33.44, 55.66)\n",
        "print(precios[1]) #Igual que una lista, pero a esta no se le pueden cambiar las variables \n",
        "print(precios[2:4:])"
      ],
      "execution_count": 16,
      "outputs": [
        {
          "output_type": "stream",
          "text": [
            "49.9\n",
            "(12.45, 23.3)\n"
          ],
          "name": "stdout"
        }
      ]
    },
    {
      "cell_type": "markdown",
      "metadata": {
        "id": "Q9-pDXEzTluc"
      },
      "source": [
        "# Diccionarios\n",
        "1. Se declaran con llaves\n",
        "2. Si son mutables\n",
        "3. Conjunto de llaves clave: valor\n",
        "3. Equivalente a los objetos JSON de JavaScript"
      ]
    },
    {
      "cell_type": "code",
      "metadata": {
        "id": "AZlg79xiT6YR",
        "outputId": "74f9355b-196c-4309-a3ba-e9f4fbcfc73a",
        "colab": {
          "base_uri": "https://localhost:8080/",
          "height": 139
        }
      },
      "source": [
        "cliente = {   }\n",
        "print(cliente)\n",
        "alumno = {   \"num_cta\" : 303030303 }\n",
        "print(alumno)\n",
        "alumno = { \n",
        "          \"num_cta\" : 303030303 ,\n",
        "          \"carrera\" : \"ICO\",\n",
        "          \"promedio\" : 9.8,\n",
        "          \"materias\" :[\"EDD\",\"CyP\",\"Calidad\",\"Emprendimiento\"],\n",
        "          \"direccion\" : { \n",
        "                            \"calle\":\"rancho seco\",\n",
        "                            \"numero\" : 23 ,\n",
        "                            \"delegacion\" : \"Neza\",\n",
        "                            \"estado\" : {\n",
        "                                        \"id\" : 15 ,\n",
        "                                        \"nombre\" : \"Estado de Máxico\" ,\n",
        "                                        \"nombre_corto\" : \"EdoMex\"\n",
        "                                        } ,\n",
        "                            \"CP\":57170\n",
        "\n",
        "                        } \n",
        "          }\n",
        "print(alumno)\n",
        "print(alumno['materias'])\n",
        "print(alumno['promedio'])\n",
        "print(alumno['direccion']['estado']['nombre_corto'])\n"
      ],
      "execution_count": 23,
      "outputs": [
        {
          "output_type": "stream",
          "text": [
            "{}\n",
            "{'num_cta': 303030303}\n",
            "{'num_cta': 303030303, 'carrera': 'ICO', 'promedio': 9.8, 'materias': ['EDD', 'CyP', 'Calidad', 'Emprendimiento'], 'direccion': {'calle': 'rancho seco', 'numero': 23, 'delegacion': 'Neza', 'estado': {'id': 15, 'nombre': 'Estado de Máxico', 'nombre_corto': 'EdoMex'}, 'CP': 57170}}\n",
            "['EDD', 'CyP', 'Calidad', 'Emprendimiento']\n",
            "9.8\n",
            "EdoMex\n"
          ],
          "name": "stdout"
        }
      ]
    }
  ]
}