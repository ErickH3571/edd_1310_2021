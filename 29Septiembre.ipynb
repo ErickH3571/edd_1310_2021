{
  "nbformat": 4,
  "nbformat_minor": 0,
  "metadata": {
    "colab": {
      "name": "Untitled0.ipynb",
      "provenance": [],
      "authorship_tag": "ABX9TyMQapsFd//JdFwK15owtPal",
      "include_colab_link": true
    },
    "kernelspec": {
      "name": "python3",
      "display_name": "Python 3"
    }
  },
  "cells": [
    {
      "cell_type": "markdown",
      "metadata": {
        "id": "view-in-github",
        "colab_type": "text"
      },
      "source": [
        "<a href=\"https://colab.research.google.com/github/ErickH3571/edd_1310_2021/blob/master/29Septiembre.ipynb\" target=\"_parent\"><img src=\"https://colab.research.google.com/assets/colab-badge.svg\" alt=\"Open In Colab\"/></a>"
      ]
    },
    {
      "cell_type": "code",
      "metadata": {
        "id": "pBFTTJcQ_8_4"
      },
      "source": [
        "edad=10\n",
        "nombre=\"su nombre\""
      ],
      "execution_count": 1,
      "outputs": []
    },
    {
      "cell_type": "code",
      "metadata": {
        "id": "YR3_4xdOAKBb"
      },
      "source": [
        "print(edad)\n",
        "colores=[\"rojo\", \"azul\", \"verde\", \"morado\", \"violeta\"]\n",
        "print(colores)\n",
        "print(colores[3])\n",
        "print(colores[3][2:4])"
      ],
      "execution_count": null,
      "outputs": []
    },
    {
      "cell_type": "code",
      "metadata": {
        "id": "85v692iEAMQx"
      },
      "source": [
        "for i in range(0,4,1):\n",
        "  print(colores[i])"
      ],
      "execution_count": null,
      "outputs": []
    },
    {
      "cell_type": "code",
      "metadata": {
        "id": "PZs_vJbDAObZ"
      },
      "source": [
        "for color in colores:\n",
        "  print(color)"
      ],
      "execution_count": null,
      "outputs": []
    },
    {
      "cell_type": "code",
      "metadata": {
        "id": "bwf64pfwAQzB"
      },
      "source": [
        "for m in range(0,len(nombre),1):\n",
        "  print(nombre[m])"
      ],
      "execution_count": null,
      "outputs": []
    },
    {
      "cell_type": "markdown",
      "metadata": {
        "id": "usT90bcvBFnZ"
      },
      "source": [
        "![Logo Fes](https://upload.wikimedia.org/wikipedia/commons/thumb/5/51/Aragon_Jonhy_corel.jpg/240px-Aragon_Jonhy_corel.jpg)"
      ]
    }
  ]
}