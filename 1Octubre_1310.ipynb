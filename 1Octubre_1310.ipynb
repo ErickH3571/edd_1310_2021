{
  "nbformat": 4,
  "nbformat_minor": 0,
  "metadata": {
    "colab": {
      "name": "1Octubre_1310.ipynb",
      "provenance": [],
      "authorship_tag": "ABX9TyMY0GHDVPqMkvsSdGWey2x3",
      "include_colab_link": true
    },
    "kernelspec": {
      "name": "python3",
      "display_name": "Python 3"
    }
  },
  "cells": [
    {
      "cell_type": "markdown",
      "metadata": {
        "id": "view-in-github",
        "colab_type": "text"
      },
      "source": [
        "<a href=\"https://colab.research.google.com/github/ErickH3571/edd_1310_2021/blob/master/1Octubre_1310.ipynb\" target=\"_parent\"><img src=\"https://colab.research.google.com/assets/colab-badge.svg\" alt=\"Open In Colab\"/></a>"
      ]
    },
    {
      "cell_type": "markdown",
      "metadata": {
        "id": "VFk4hBby7uSV"
      },
      "source": [
        "## Intro Phython\n",
        "\n",
        "### Variables\n",
        "\n",
        "Tipo dinamico\n",
        "\"escuela = \"Fes Aragon\"\""
      ]
    },
    {
      "cell_type": "code",
      "metadata": {
        "id": "Sp-IHPBj8GMM",
        "outputId": "fe42dfae-f05c-4783-9885-163763dedbc8",
        "colab": {
          "base_uri": "https://localhost:8080/",
          "height": 34
        }
      },
      "source": [
        "escuela = \"Fes Aragon\"\n",
        "print(escuela)\n",
        "edad = 13\n",
        "estatura = 1.67\n",
        "fumador = True\n",
        "frase = \"\"\"\n",
        "Esta es una frase \n",
        "de multiples lineas\n",
        "y tambien es un tipo de dato\n",
        "\"\"\"\n",
        "nombre = 'Jose'\n",
        "nombre_completo = \"Jose Pedro Cardenas\""
      ],
      "execution_count": 5,
      "outputs": [
        {
          "output_type": "stream",
          "text": [
            "Fes Aragon\n"
          ],
          "name": "stdout"
        }
      ]
    },
    {
      "cell_type": "markdown",
      "metadata": {
        "id": "WVIg1s0k93cA"
      },
      "source": [
        "# Print \n",
        "Se puede usar con comas,\n",
        "con signo +,\n",
        "con format()\n",
        "y con el operador f\"\""
      ]
    },
    {
      "cell_type": "code",
      "metadata": {
        "id": "Y2wrGH8s-181",
        "outputId": "61bc408e-dad9-4618-97cc-40fe4235749b",
        "colab": {
          "base_uri": "https://localhost:8080/",
          "height": 34
        }
      },
      "source": [
        "#Ejemplo con coma\n",
        "print(nombre, edad)"
      ],
      "execution_count": 6,
      "outputs": [
        {
          "output_type": "stream",
          "text": [
            "Jose 13\n"
          ],
          "name": "stdout"
        }
      ]
    },
    {
      "cell_type": "code",
      "metadata": {
        "id": "mfN8jStE_GL-",
        "outputId": "16999e7c-50bb-4b95-bf5d-55d3c8a16b4e",
        "colab": {
          "base_uri": "https://localhost:8080/",
          "height": 34
        }
      },
      "source": [
        "#Ejemplo concatena String\n",
        "print(nombre+ str(edad)) #Se tiene que convertir a String "
      ],
      "execution_count": 7,
      "outputs": [
        {
          "output_type": "stream",
          "text": [
            "Jose13\n"
          ],
          "name": "stdout"
        }
      ]
    },
    {
      "cell_type": "code",
      "metadata": {
        "id": "IOFpOKOyAcxN",
        "outputId": "75ac1544-fd5d-40cb-d16f-f62adcb88b75",
        "colab": {
          "base_uri": "https://localhost:8080/",
          "height": 51
        }
      },
      "source": [
        "# Con formato --> Su nombre es Jose y su edad es de 13 años\n",
        "print(\"Su nombre es {0} y su edad es de {1} años\".format(nombre, edad))\n",
        "print(\"Su nombre es {1} y su edad es de {0} años\".format(nombre, edad))\n"
      ],
      "execution_count": 9,
      "outputs": [
        {
          "output_type": "stream",
          "text": [
            "Su nombre es Jose y su edad es de 13 años\n",
            "Su nombre es 13 y su edad es de Jose años\n"
          ],
          "name": "stdout"
        }
      ]
    },
    {
      "cell_type": "code",
      "metadata": {
        "id": "2uddFltXB0VT",
        "outputId": "df3ec0d0-bcf6-4d66-e9ca-12c39273dd04",
        "colab": {
          "base_uri": "https://localhost:8080/",
          "height": 34
        }
      },
      "source": [
        "# Con formato operador f\"\"\n",
        "print(f\"Su nombre es {nombre} y su edad es de {edad} años\")"
      ],
      "execution_count": 8,
      "outputs": [
        {
          "output_type": "stream",
          "text": [
            "Su nombre es Jose y su edad es de 13 años\n"
          ],
          "name": "stdout"
        }
      ]
    },
    {
      "cell_type": "markdown",
      "metadata": {
        "id": "2uD3wSd1EJ72"
      },
      "source": [
        "# Carácter de escape\n",
        "\\n salto de linea\n",
        "\\t tabulador\n",
        "\\a beep\n",
        "\\\\* imprimir comilla doble\n",
        "\\\\' imprimir comilla simple"
      ]
    },
    {
      "cell_type": "code",
      "metadata": {
        "id": "meRPE6zvEWup",
        "outputId": "740d7293-8d1e-4e7f-d2f6-de110253aba4",
        "colab": {
          "base_uri": "https://localhost:8080/",
          "height": 51
        }
      },
      "source": [
        "\"\"\"\n",
        "Comentario de \n",
        "multiple linea\n",
        "siuuu\n",
        "\"\"\"\n",
        "print(f\"\\tMi nombre es \\n\\t \\t {nombre}\")"
      ],
      "execution_count": 10,
      "outputs": [
        {
          "output_type": "stream",
          "text": [
            "\tMi nombre es \n",
            "\t \t Jose\n"
          ],
          "name": "stdout"
        }
      ]
    },
    {
      "cell_type": "markdown",
      "metadata": {
        "id": "QMTKSUSWEo7m"
      },
      "source": [
        "## Ayuda tipo de datos en Phython\n",
        "dir(), help()"
      ]
    },
    {
      "cell_type": "code",
      "metadata": {
        "id": "R1QCXv_yEyCQ"
      },
      "source": [
        "help(str)"
      ],
      "execution_count": null,
      "outputs": []
    },
    {
      "cell_type": "code",
      "metadata": {
        "id": "cmlGAM_JFLlV",
        "outputId": "cab60a9a-351d-4110-dc4d-cf73f92feb2b",
        "colab": {
          "base_uri": "https://localhost:8080/",
          "height": 51
        }
      },
      "source": [
        "print(nombre_completo.capitalize()) #Pone la primera en mayusculas  \n",
        "print(nombre_completo.upper(), end= \"------\") #Pone todas las letras en mayusculas # end evita el salto de linea\n",
        "print(nombre_completo.title()) #Pone la primera letra de cada palabra en mayuscula"
      ],
      "execution_count": 15,
      "outputs": [
        {
          "output_type": "stream",
          "text": [
            "Jose pedro cardenas\n",
            "JOSE PEDRO CARDENAS------Jose Pedro Cardenas\n"
          ],
          "name": "stdout"
        }
      ]
    },
    {
      "cell_type": "markdown",
      "metadata": {
        "id": "oNSUrhzkGzgv"
      },
      "source": [
        "# Clase String \n",
        "Es manejada como un arreglo (C o Java) o lista (Phython)\n",
        "telefono = \"Huawei Mate 30 Pro \""
      ]
    },
    {
      "cell_type": "code",
      "metadata": {
        "id": "P4DMwwRkHD2s",
        "outputId": "99ce5c3b-0d88-4410-d378-d1d54ae394e7",
        "colab": {
          "base_uri": "https://localhost:8080/",
          "height": 34
        }
      },
      "source": [
        "telefono = \"Huawei Mate 30 Pro\"\n",
        "print(telefono[5])"
      ],
      "execution_count": 18,
      "outputs": [
        {
          "output_type": "stream",
          "text": [
            "i\n"
          ],
          "name": "stdout"
        }
      ]
    },
    {
      "cell_type": "markdown",
      "metadata": {
        "id": "0nJgKE5dIMHu"
      },
      "source": [
        "# Slicing (Rebanado)\n",
        "[ini: stop: incremento]\n",
        "\n",
        "Nota: El stop no se incluye"
      ]
    },
    {
      "cell_type": "code",
      "metadata": {
        "id": "AkXdn3k9IiPu",
        "outputId": "bf297c2f-f426-4f26-c5db-89607dde364b",
        "colab": {
          "base_uri": "https://localhost:8080/",
          "height": 102
        }
      },
      "source": [
        "print(telefono[7:11]) #Se tiene que poner uno más que de lo que es\n",
        "print(telefono[:11:]) #El inicio e incremento son opcionales\n",
        "print(telefono[::]) #El valor por defecto del stop es len(str)\n",
        "print(telefono[::-1]) #invierte el string\n",
        "print(telefono[-3::1]) #Imprime desde el otro lado"
      ],
      "execution_count": 25,
      "outputs": [
        {
          "output_type": "stream",
          "text": [
            "Mate\n",
            "Huawei Mate\n",
            "Huawei Mate 30 Pro\n",
            "orP 03 etaM iewauH\n",
            "Pro\n"
          ],
          "name": "stdout"
        }
      ]
    },
    {
      "cell_type": "markdown",
      "metadata": {
        "id": "dip7zN28NVHf"
      },
      "source": [
        "#Metodos de String (str)\n",
        "Existen metodos muy utiles en esta clase"
      ]
    },
    {
      "cell_type": "code",
      "metadata": {
        "id": "NcIEWncuOaSz",
        "outputId": "7ca4a7d2-0946-4188-e628-f595bc141a48",
        "colab": {
          "base_uri": "https://localhost:8080/",
          "height": 153
        }
      },
      "source": [
        "facultad = \"facultad de estudios superiores aragon\"\n",
        "print(facultad.count(\"u\")) #Cuenta el numero de u en el string\n",
        "print(facultad.find(\"s\")) #Te dice en que posicion esta la letra s\n",
        "print(facultad.strip()) # Quita los saltos de linea #rstrinp eliminar espacios en blanco a la derecha, lstrip a la izquierda\n",
        "print(len(facultad))\n",
        "print(facultad.split(\"t\")) #Corta la cadena hasta donde esta la letra, y hace una lista\n",
        "print(facultad.strip().split(\" \")) #Solo agarra las palabras\n"
      ],
      "execution_count": 37,
      "outputs": [
        {
          "output_type": "stream",
          "text": [
            "3\n",
            "13\n",
            "facultad de estudios superiores aragon\n",
            "38\n",
            "['facul', 'ad de es', 'udios superiores aragon']\n",
            "['facultad', 'de', 'estudios', 'superiores', 'aragon']\n",
            "facultad de estudios superiores aragon\n",
            "FES Aragón\n"
          ],
          "name": "stdout"
        }
      ]
    },
    {
      "cell_type": "code",
      "metadata": {
        "id": "LwXWzq-8S5t4"
      },
      "source": [
        "#Copiando cadenas\n",
        "otra_cadena = facultad \n",
        "facultad = \"FES Aragón\"\n",
        "print(otra_cadena)\n",
        "print(facultad)"
      ],
      "execution_count": null,
      "outputs": []
    },
    {
      "cell_type": "code",
      "metadata": {
        "id": "w-L7YlAFS6o_"
      },
      "source": [
        "#Copiando listas\n",
        "lista1 = [\"rojo\", \"verde\"]\n",
        "lista2 = lista1.copy()\n",
        "print(lista1)\n",
        "print(lista2)\n",
        "lista2.append(\"rosa\")\n",
        "print(lista1)\n",
        "print(lista2)"
      ],
      "execution_count": null,
      "outputs": []
    }
  ]
}