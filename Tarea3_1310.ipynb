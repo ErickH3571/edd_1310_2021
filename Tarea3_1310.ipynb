{
  "nbformat": 4,
  "nbformat_minor": 0,
  "metadata": {
    "colab": {
      "name": "Tarea3_1310.ipynb",
      "provenance": [],
      "authorship_tag": "ABX9TyPjIgUVCa4fD0zqYpv6WXec",
      "include_colab_link": true
    },
    "kernelspec": {
      "name": "python3",
      "display_name": "Python 3"
    }
  },
  "cells": [
    {
      "cell_type": "markdown",
      "metadata": {
        "id": "view-in-github",
        "colab_type": "text"
      },
      "source": [
        "<a href=\"https://colab.research.google.com/github/ErickH3571/edd_1310_2021/blob/master/Tarea3_1310.ipynb\" target=\"_parent\"><img src=\"https://colab.research.google.com/assets/colab-badge.svg\" alt=\"Open In Colab\"/></a>"
      ]
    },
    {
      "cell_type": "code",
      "metadata": {
        "id": "c1-xj7DHB6cc",
        "outputId": "86b8064a-fdef-4b83-d1b7-c0fd79b2b4da",
        "colab": {
          "base_uri": "https://localhost:8080/",
          "height": 68
        }
      },
      "source": [
        "class Persona:\n",
        "  def __init__(self, n, e, es):\n",
        "    self.__nombre = n\n",
        "    self.__edad = e\n",
        "    self.__estatura = es\n",
        "\n",
        "  def to_String(self):\n",
        "    return \"Nombre: \" +self.__nombre + \" Edad: \"+self.__edad + \" Estatura: \"+ self.__estatura\n",
        "\n",
        "  def Comer(self, comida):\n",
        "    return self.__nombre +\" comió: \" + comida\n",
        "  \n",
        "  def Domir(self, horas):\n",
        "    return self.__nombre +\" durmió: \" + str(horas) + \" horas\"\n",
        "\n",
        "persona1 = Persona(\"Erick\", \"19\", \"1.70\")\n",
        "print(persona1.to_String())\n",
        "print(persona1.Comer(\"Tacos\"))\n",
        "print(persona1.Domir(8))"
      ],
      "execution_count": 11,
      "outputs": [
        {
          "output_type": "stream",
          "text": [
            "Nombre: Erick Edad: 19 Estatura: 1.70\n",
            "Erick comió: Tacos\n",
            "Erick durmió: 8 horas\n"
          ],
          "name": "stdout"
        }
      ]
    },
    {
      "cell_type": "code",
      "metadata": {
        "id": "APT5xP1fE8n1",
        "outputId": "117fdacc-16b7-4a40-e6d5-03cfcf006674",
        "colab": {
          "base_uri": "https://localhost:8080/",
          "height": 68
        }
      },
      "source": [
        "class Celular:\n",
        "  def __init__(self, m, mo, em):\n",
        "    self.__marca = m\n",
        "    self.__modelo = mo\n",
        "    self.__espaciome = em\n",
        "  \n",
        "  def to_String(self):\n",
        "    return \"Marca: \" +self.__marca + \" Modelo: \"+self.__modelo + \" Espacio Memoria: \"+ self.__espaciome\n",
        "\n",
        "  def Llamar(self, persona):\n",
        "    return \"Llamando a: \" + persona\n",
        "  \n",
        "  def Alarma(self, hora):\n",
        "    return \"Alarma puesta a las: \" + hora\n",
        "\n",
        "celular1 = Celular(\"Xiaomi\", \"Note 9 Pro\", \"128 GB\")\n",
        "print(celular1.to_String())\n",
        "print(celular1.Llamar(\"Sofia\"))\n",
        "print(celular1.Alarma(\"7 am\"))"
      ],
      "execution_count": 10,
      "outputs": [
        {
          "output_type": "stream",
          "text": [
            "Marca: Xiaomi Modelo: Note 9 Pro Espacio Memoria: 128 GB\n",
            "Llamando a: Sofia\n",
            "Alarma puesta a las: 7 am\n"
          ],
          "name": "stdout"
        }
      ]
    }
  ]
}