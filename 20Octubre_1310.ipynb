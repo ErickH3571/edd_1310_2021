{
  "nbformat": 4,
  "nbformat_minor": 0,
  "metadata": {
    "colab": {
      "name": "20Octubre_1310.ipynb",
      "provenance": [],
      "authorship_tag": "ABX9TyNeM8/vB+WiqlAhA5DPW+NV",
      "include_colab_link": true
    },
    "kernelspec": {
      "name": "python3",
      "display_name": "Python 3"
    }
  },
  "cells": [
    {
      "cell_type": "markdown",
      "metadata": {
        "id": "view-in-github",
        "colab_type": "text"
      },
      "source": [
        "<a href=\"https://colab.research.google.com/github/ErickH3571/edd_1310_2021/blob/master/20Octubre_1310.ipynb\" target=\"_parent\"><img src=\"https://colab.research.google.com/assets/colab-badge.svg\" alt=\"Open In Colab\"/></a>"
      ]
    },
    {
      "cell_type": "markdown",
      "metadata": {
        "id": "1OrYC869_7rj"
      },
      "source": [
        "# Sintaxis for en Python\n",
        "dos versiones de for\n",
        "1. range\n",
        "1. in iterator"
      ]
    },
    {
      "cell_type": "code",
      "metadata": {
        "id": "XZm1tUfV-vrq",
        "outputId": "5211ddaf-42af-4585-e011-f580b9298c50",
        "colab": {
          "base_uri": "https://localhost:8080/",
          "height": 170
        }
      },
      "source": [
        "r = range(0,10,2)     # mo se incluye el stop \n",
        "for x in r:\n",
        "  print(x)\n",
        "\n",
        "colores = ['rojo', 'rosa', 'azul', 'fucsia']\n",
        "\n",
        "for indice in range(0,len(colores),1):   # for(indice = 0; inidce <4; indice++)\n",
        "  #print(colores[indice])\n",
        "  colores[indice]= colores[indice] + str(indice)\n",
        "# for sobre un iterador\n",
        "for col in colores:\n",
        "  print(col)"
      ],
      "execution_count": 9,
      "outputs": [
        {
          "output_type": "stream",
          "text": [
            "0\n",
            "2\n",
            "4\n",
            "6\n",
            "8\n",
            "rojo0\n",
            "rosa1\n",
            "azul2\n",
            "fucsia3\n"
          ],
          "name": "stdout"
        }
      ]
    },
    {
      "cell_type": "markdown",
      "metadata": {
        "id": "BCmDb2YbAENf"
      },
      "source": [
        "# Generadores\n",
        "[valor for x in range(10) ]\n",
        "[[0,0,0],\n",
        " [0,0,0],\n",
        " [0,0,0]]\n",
        "3 x 3"
      ]
    },
    {
      "cell_type": "code",
      "metadata": {
        "id": "btHw1TvFAKDU",
        "outputId": "0c6402f3-710b-488e-e53c-cae08a07ee72",
        "colab": {
          "base_uri": "https://localhost:8080/",
          "height": 34
        }
      },
      "source": [
        "lista = [ 0 for x in range(10) ]\n",
        "print(lista)"
      ],
      "execution_count": 10,
      "outputs": [
        {
          "output_type": "stream",
          "text": [
            "[0, 0, 0, 0, 0, 0, 0, 0, 0, 0]\n"
          ],
          "name": "stdout"
        }
      ]
    },
    {
      "cell_type": "code",
      "metadata": {
        "id": "LXnwzPPqAM_d",
        "outputId": "f0840401-356b-43d4-c7d6-ad493e92cc25",
        "colab": {
          "base_uri": "https://localhost:8080/",
          "height": 34
        }
      },
      "source": [
        "ren = 3\n",
        "col = 3\n",
        "lista = [ [0 for x in range(col)] for x in range(ren) ]\n",
        "print(lista)"
      ],
      "execution_count": 11,
      "outputs": [
        {
          "output_type": "stream",
          "text": [
            "[[0, 0, 0], [0, 0, 0], [0, 0, 0]]\n"
          ],
          "name": "stdout"
        }
      ]
    },
    {
      "cell_type": "markdown",
      "metadata": {
        "id": "V0TPHxxS_lWm"
      },
      "source": [
        "#Programacion Orientada a Objetos\n",
        "- clase\n",
        "- creacion de objetos\n",
        "- constructor\n",
        "- encapsulamiento\n",
        "- metodos\n",
        "- atributos\n",
        "- herencia"
      ]
    },
    {
      "cell_type": "code",
      "metadata": {
        "id": "U5gK4gIg_lwN",
        "outputId": "cfef3644-09bf-4cf1-aeb2-ae287850e7ea",
        "colab": {
          "base_uri": "https://localhost:8080/",
          "height": 34
        }
      },
      "source": [
        "class Computadora:\n",
        "  def __init__(self, m , p):\n",
        "    self.__marca = m\n",
        "    self.__procesador = p\n",
        "\n",
        "  def to_String( self ):\n",
        "    return \"Marca: \"+self.__marca + \" Procesador: \" +self.__procesador\n",
        "\n",
        "mi_pc = Computadora(\"Toshiba\", \"Intel i7\")\n",
        "mi_pc.__marca = \"HP \"\n",
        "print(mi_pc.to_String())"
      ],
      "execution_count": 8,
      "outputs": [
        {
          "output_type": "stream",
          "text": [
            "Marca: ToshibaProcesador: Intel i7\n"
          ],
          "name": "stdout"
        }
      ]
    }
  ]
}