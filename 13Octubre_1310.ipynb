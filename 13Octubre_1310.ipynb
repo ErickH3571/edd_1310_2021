{
  "nbformat": 4,
  "nbformat_minor": 0,
  "metadata": {
    "colab": {
      "name": "13Octubre_1310.ipynb",
      "provenance": [],
      "authorship_tag": "ABX9TyOOA04RBJzlM/65Vly5O5Xu",
      "include_colab_link": true
    },
    "kernelspec": {
      "name": "python3",
      "display_name": "Python 3"
    }
  },
  "cells": [
    {
      "cell_type": "markdown",
      "metadata": {
        "id": "view-in-github",
        "colab_type": "text"
      },
      "source": [
        "<a href=\"https://colab.research.google.com/github/ErickH3571/edd_1310_2021/blob/master/13Octubre_1310.ipynb\" target=\"_parent\"><img src=\"https://colab.research.google.com/assets/colab-badge.svg\" alt=\"Open In Colab\"/></a>"
      ]
    },
    {
      "cell_type": "code",
      "metadata": {
        "id": "9xqdeYA1t1-Y",
        "outputId": "06682900-c7a6-4a47-9797-db88638ddcb8",
        "colab": {
          "base_uri": "https://localhost:8080/",
          "height": 105
        }
      },
      "source": [
        "alumno = { \n",
        "          \"num_cta\" : 303030303 ,\n",
        "          \"carrera\" : \"ICO\",\n",
        "          \"promedio\" : 9.8,\n",
        "          \"materias\" :[\"EDD\",\"CyP\",\"Calidad\",\"Emprendimiento\"],\n",
        "          \"direccion\" : { \n",
        "                            \"calle\":\"rancho seco\",\n",
        "                            \"numero\" : 23 ,\n",
        "                            \"delegacion\" : \"Neza\",\n",
        "                            \"estado\" : {\n",
        "                                        \"id\" : 15 ,\n",
        "                                        \"nombre\" : \"Estado de Máxico\" ,\n",
        "                                        \"nombre_corto\" : \"EdoMex\"\n",
        "                                        } ,\n",
        "                            \"CP\":57170\n",
        "\n",
        "                        } \n",
        "          }\n",
        "print(alumno)\n",
        "alumno[\"carrera\"] = \"Ingeniría en Computación\"\n",
        "print(alumno)\n",
        "alumno[\"nombre_completo\"] = {\"primer\" : \"Juan\",\n",
        "                             \"segundo\" : \"Pedro\",\n",
        "                             \"materno\" : \"Perez\",\n",
        "                             \"Paterno\" : \"Gomez\"\n",
        "                             }\n",
        "alumno[\"semestre\"] = 3\n",
        "print(alumno)\n",
        "\n",
        "print(f\"{alumno['nombre_completo']['primer']} {alumno['nombre_completo']['segundo']}\")"
      ],
      "execution_count": 4,
      "outputs": [
        {
          "output_type": "stream",
          "text": [
            "{'num_cta': 303030303, 'carrera': 'ICO', 'promedio': 9.8, 'materias': ['EDD', 'CyP', 'Calidad', 'Emprendimiento'], 'direccion': {'calle': 'rancho seco', 'numero': 23, 'delegacion': 'Neza', 'estado': {'id': 15, 'nombre': 'Estado de Máxico', 'nombre_corto': 'EdoMex'}, 'CP': 57170}}\n",
            "{'num_cta': 303030303, 'carrera': 'Ingeniría en Computación', 'promedio': 9.8, 'materias': ['EDD', 'CyP', 'Calidad', 'Emprendimiento'], 'direccion': {'calle': 'rancho seco', 'numero': 23, 'delegacion': 'Neza', 'estado': {'id': 15, 'nombre': 'Estado de Máxico', 'nombre_corto': 'EdoMex'}, 'CP': 57170}}\n",
            "{'num_cta': 303030303, 'carrera': 'Ingeniría en Computación', 'promedio': 9.8, 'materias': ['EDD', 'CyP', 'Calidad', 'Emprendimiento'], 'direccion': {'calle': 'rancho seco', 'numero': 23, 'delegacion': 'Neza', 'estado': {'id': 15, 'nombre': 'Estado de Máxico', 'nombre_corto': 'EdoMex'}, 'CP': 57170}, 'nombre_completo': {'primer': 'Juan', 'segundo': 'Pedro', 'materno': 'Perez', 'Paterno': 'Gomez'}, 'semestre': 3}\n",
            "Juan Pedro\n"
          ],
          "name": "stdout"
        }
      ]
    },
    {
      "cell_type": "code",
      "metadata": {
        "id": "n17iPXoeyw8Q",
        "outputId": "0e09716a-dddd-4386-fd80-1aff16a7b4ff",
        "colab": {
          "base_uri": "https://localhost:8080/",
          "height": 309
        }
      },
      "source": [
        "#key(), values(), e items()\n",
        "llaves = alumno.keys()\n",
        "print(llaves)\n",
        "for llave in llaves:\n",
        "  print(llave.upper())\n",
        "\n",
        "valores = alumno.values()\n",
        "for val in valores:\n",
        "  print(val)\n",
        "\n",
        "pares = alumno.items()\n",
        "print(pares)\n",
        "for elem in pares:\n",
        "  print(f\"el campo {elem[0]} tiene el valor {elem [1]}\")"
      ],
      "execution_count": 5,
      "outputs": [
        {
          "output_type": "stream",
          "text": [
            "dict_keys(['num_cta', 'carrera', 'promedio', 'materias', 'direccion', 'nombre_completo', 'semestre'])\n",
            "NUM_CTA\n",
            "CARRERA\n",
            "PROMEDIO\n",
            "MATERIAS\n",
            "DIRECCION\n",
            "NOMBRE_COMPLETO\n",
            "SEMESTRE\n",
            "303030303\n",
            "Ingeniría en Computación\n",
            "9.8\n",
            "['EDD', 'CyP', 'Calidad', 'Emprendimiento']\n",
            "{'calle': 'rancho seco', 'numero': 23, 'delegacion': 'Neza', 'estado': {'id': 15, 'nombre': 'Estado de Máxico', 'nombre_corto': 'EdoMex'}, 'CP': 57170}\n",
            "{'primer': 'Juan', 'segundo': 'Pedro', 'materno': 'Perez', 'Paterno': 'Gomez'}\n",
            "3\n",
            "dict_items([('num_cta', 303030303), ('carrera', 'Ingeniría en Computación'), ('promedio', 9.8), ('materias', ['EDD', 'CyP', 'Calidad', 'Emprendimiento']), ('direccion', {'calle': 'rancho seco', 'numero': 23, 'delegacion': 'Neza', 'estado': {'id': 15, 'nombre': 'Estado de Máxico', 'nombre_corto': 'EdoMex'}, 'CP': 57170}), ('nombre_completo', {'primer': 'Juan', 'segundo': 'Pedro', 'materno': 'Perez', 'Paterno': 'Gomez'}), ('semestre', 3)])\n"
          ],
          "name": "stdout"
        }
      ]
    },
    {
      "cell_type": "code",
      "metadata": {
        "id": "n2ixso3h073Q",
        "outputId": "2e9441ce-b5b2-46a4-988b-bc80b81b4c80",
        "colab": {
          "base_uri": "https://localhost:8080/",
          "height": 34
        }
      },
      "source": [
        "#Concatenar Diccionarios\n",
        "computadora = {\"procesador\":\"Intel i7\",\"ram\": \"Kingston 128GB\"}\n",
        "otros = {\"monitor\":\"LG49\\\"\",\"hd\":\"Toshiba 1TB\"}\n",
        "computadora.update(otros)\n",
        "print(computadora)"
      ],
      "execution_count": 6,
      "outputs": [
        {
          "output_type": "stream",
          "text": [
            "{'procesador': 'Intel i7', 'ram': 'Kingston 128GB', 'monitor': 'LG49\"', 'hd': 'Toshiba 1TB'}\n"
          ],
          "name": "stdout"
        }
      ]
    },
    {
      "cell_type": "markdown",
      "metadata": {
        "id": "GcQ50XwI2ni2"
      },
      "source": [
        "#Funciones \n",
        "- Son unidades de codigo reutilizable \n",
        "- Es un mecanismo de una organizacion de codigo\n",
        "- Una funcio toma de 0 a n parametro de entrada\n",
        "- Tiene una sola salida (Return) de cualquier tipo de dato \n",
        "- Solo puede hacer dos cosas:\n",
        "     *Definirla \n",
        "     *Llamarla\n",
        "- Se definen con la palabra reservada \"Def\""
      ]
    },
    {
      "cell_type": "code",
      "metadata": {
        "id": "dsjjBw1-3-Fa",
        "outputId": "f1b4a59d-118d-466e-a203-2bf2dd809c79",
        "colab": {
          "base_uri": "https://localhost:8080/",
          "height": 272
        }
      },
      "source": [
        "def sumar( x , y ):\n",
        "  resultado = x + y\n",
        "  return resultado\n",
        "\n",
        "def saludar(nombre):\n",
        "  print(f\"Hola {nombre}, ¿Como estas?\")\n",
        "  return None #No regresa nada \n",
        "\n",
        "  #Procesar None\n",
        "def multiplicar (num, veces):\n",
        "  if num != None:\n",
        "    c = num * veces\n",
        "  else:\n",
        "    c = \"Operacion no valida\"\n",
        "  return veces\n",
        "\n",
        "def operacion (a, b, c):\n",
        "  res = a + (b/c)\n",
        "  return res\n",
        "\n",
        "#Valores por defecto \n",
        "def comanda(primertiempo, fuerte, postre):\n",
        "  print(f\"De entrada pidió: {primertiempo}\")\n",
        "  print(f\"De plato fuerte pidió: {fuerte}\")\n",
        "  print(f\"De postre pidió: {postre}\")\n",
        "\n",
        "print(sumar(10,5))\n",
        "print(sumar(10,-30))\n",
        "saludar(\"Erick\")\n",
        "print(saludar(\"Erick\"))\n",
        "multiplicar(5,10)\n",
        "multiplicar(None,10)\n",
        "print(operacion(2,9,3))\n",
        "print(operacion(2,3,9)) #Respeta las posiciones\n",
        "print(operacion(a=2,c=3,b=9)) #Cambia las variables\n",
        "\n",
        "\n",
        "#Argumentos posicionales con tuplas\n",
        "def comanda_2( *opciones):\n",
        "  print(opciones)\n",
        "  print(f\"De entrada pidio: {opciones[0]}\")\n",
        "  print(f\"De plato fuerte:{opciones[1]}\")\n",
        "  print(f\"Postre:{opciones[2]}\")\n",
        "\n",
        "comanda(\"sopa aguada\",\"Tortas de papa\", \"Gelatina de limon\")\n",
        "comanda_2(\"sopa aguada\",\"Tortas de papa\", \"Gelatina de limon\")"
      ],
      "execution_count": 23,
      "outputs": [
        {
          "output_type": "stream",
          "text": [
            "15\n",
            "-20\n",
            "Hola Erick, ¿Como estas?\n",
            "Hola Erick, ¿Como estas?\n",
            "None\n",
            "5.0\n",
            "2.3333333333333335\n",
            "5.0\n",
            "De entrada pidió: sopa aguada\n",
            "De plato fuerte pidió: Tortas de papa\n",
            "De postre pidió: Gelatina de limon\n",
            "('sopa aguada', 'Tortas de papa', 'Gelatina de limon')\n",
            "De entrada pidio: sopa aguada\n",
            "De plato fuerte:Tortas de papa\n",
            "Postre:Gelatina de limon\n"
          ],
          "name": "stdout"
        }
      ]
    },
    {
      "cell_type": "code",
      "metadata": {
        "id": "koRleSjWB48j"
      },
      "source": [
        "#Argumentos posicionales con diccionarios\n",
        "def comanda_3( **opciones ):\n",
        "     print(opciones)\n",
        "     for op in opciones.items():\n",
        "       print(f\"{op[0]} -> {op[1]}\")\n",
        "\n",
        "comanda_3(primer=\"sopa aguada\",fuerte=\"Tortas de papa\", postre\"Gelatina de limon\", \n",
        "          extra1= \"Las tortas bien doradas\", extra2=\"Traer dos limones\", extra3= \"Agua con hielo\")"
      ],
      "execution_count": null,
      "outputs": []
    }
  ]
}