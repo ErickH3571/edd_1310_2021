{
  "nbformat": 4,
  "nbformat_minor": 0,
  "metadata": {
    "colab": {
      "name": "6Octubre_1310.ipynb",
      "provenance": [],
      "authorship_tag": "ABX9TyMMkbVNC5wn2OJ7SAquzg3z",
      "include_colab_link": true
    },
    "kernelspec": {
      "name": "python3",
      "display_name": "Python 3"
    }
  },
  "cells": [
    {
      "cell_type": "markdown",
      "metadata": {
        "id": "view-in-github",
        "colab_type": "text"
      },
      "source": [
        "<a href=\"https://colab.research.google.com/github/ErickH3571/edd_1310_2021/blob/master/6Octubre_1310.ipynb\" target=\"_parent\"><img src=\"https://colab.research.google.com/assets/colab-badge.svg\" alt=\"Open In Colab\"/></a>"
      ]
    },
    {
      "cell_type": "code",
      "metadata": {
        "id": "nWG4nc-Fw_rE",
        "outputId": "5f2644f2-29cd-48e4-b870-10ecf17ab25f",
        "colab": {
          "base_uri": "https://localhost:8080/",
          "height": 340
        }
      },
      "source": [
        "# String continuacion\n",
        "numeros_txt= \"   1, 2, 3, 4, 5 , 35  , 15 , 12\"\n",
        "print(numeros_txt)\n",
        "numeros_txt = numeros_txt.lstrip().split(',')\n",
        "print(numeros_txt)\n",
        "for j in range(len(numeros_txt)):\n",
        "  numeros_txt[ j ] = int(numeros_txt[j].strip())\n",
        "print(numeros_txt)\n",
        "# Funcion range\n",
        "#range(inicio, stop, incremento )\n",
        "print(range(1,10,3))\n",
        "rango = range(1,10,2)\n",
        "for x in rango:\n",
        "  print(x)\n",
        "rango = range(10)\n",
        "for x in rango:\n",
        "  print(x)"
      ],
      "execution_count": 2,
      "outputs": [
        {
          "output_type": "stream",
          "text": [
            "   1, 2, 3, 4, 5 , 35  , 15 , 12\n",
            "['1', ' 2', ' 3', ' 4', ' 5 ', ' 35  ', ' 15 ', ' 12']\n",
            "[1, 2, 3, 4, 5, 35, 15, 12]\n",
            "range(1, 10, 3)\n",
            "1\n",
            "3\n",
            "5\n",
            "7\n",
            "9\n",
            "0\n",
            "1\n",
            "2\n",
            "3\n",
            "4\n",
            "5\n",
            "6\n",
            "7\n",
            "8\n",
            "9\n"
          ],
          "name": "stdout"
        }
      ]
    },
    {
      "cell_type": "markdown",
      "metadata": {
        "id": "JDigY2xQzz9r"
      },
      "source": [
        "# Listas \n",
        " - Mutables\n",
        " - declaran con [ ]\n",
        " - selector [ int ]\n",
        " - pueden ser de cualquier tipo y mezclado\n",
        " # tuplas\n",
        " - NO mutables\n",
        " - declaran con { }\n",
        " - selectos [ int ]\n",
        " # diccionarios\n",
        " - Son mutables\n",
        " - son conjunto de pares llave:valor\n",
        " - Equivalentes a los Objtos JSON de Java Script\n",
        " #conjuntos\n",
        " - representacion de teoria de conjuntos"
      ]
    },
    {
      "cell_type": "code",
      "metadata": {
        "id": "vGZvJc1e0HWD",
        "outputId": "39ef0b0c-e172-4b04-b344-6312ba525f8d",
        "colab": {
          "base_uri": "https://localhost:8080/",
          "height": 136
        }
      },
      "source": [
        "# Listas (Equivalentes a arreglos en otros lenguajes en programacion) \n",
        " # Los datos introducidos en la lista pueden ser de cualquier tipo/ mezclados\n",
        "frutas = [\"manzana\", \"kiwi\", \"platano\", \"pera\"]\n",
        "print(frutas)\n",
        "cosas = [\"cuaderno \", 2 , 3.1416 , True , False , [\"Rojo\" , \"Azul\"]]\n",
        "print(cosas)\n",
        "frutas[2]= \"Fresa\"    # frutas[2] = frutas[2].capitalize()\n",
        "print(frutas)\n",
        "# agregar a lista \n",
        "frutas.append(\"Aguacate\") #Append . agrega un elemento final a la lista\n",
        "print(frutas)\n",
        "frutas.insert(2,\"Sandia\")\n",
        "print(frutas)\n",
        "\n",
        "#Concatenar listas\n",
        "fecha = [\"06\", \"10\", \"2020\" ]\n",
        "print(fecha)\n",
        "fecha_str = \"/\".join(fecha)\n",
        "print(fecha_str)\n"
      ],
      "execution_count": 10,
      "outputs": [
        {
          "output_type": "stream",
          "text": [
            "['manzana', 'kiwi', 'platano', 'pera']\n",
            "['cuaderno ', 2, 3.1416, True, False, ['Rojo', 'Azul']]\n",
            "['manzana', 'kiwi', 'Fresa', 'pera']\n",
            "['manzana', 'kiwi', 'Fresa', 'pera', 'Aguacate']\n",
            "['manzana', 'kiwi', 'Sandia', 'Fresa', 'pera', 'Aguacate']\n",
            "['06', '10', '2020']\n",
            "06/10/2020\n"
          ],
          "name": "stdout"
        }
      ]
    },
    {
      "cell_type": "code",
      "metadata": {
        "id": "K18YuJWM4oaF",
        "outputId": "44b3b15f-fc8c-4ccc-a448-4bc4de0a5ab0",
        "colab": {
          "base_uri": "https://localhost:8080/",
          "height": 170
        }
      },
      "source": [
        "#Eliminar elementos\n",
        "cosas = [\"cuaderno \", 2 , 3.1416 , True , False , [\"Rojo\" , \"Azul\"]]\n",
        "print(cosas)\n",
        "cosas.append(\"Libro\")\n",
        "cosas.append(\"Lapiz\")\n",
        "print(cosas)\n",
        "algo = cosas.pop()\n",
        "print(cosas)\n",
        "print(algo)\n",
        "algo = cosas.pop(2)\n",
        "print(cosas)\n",
        "print(algo)\n",
        "\n",
        "\n",
        "#Vaciar una lista\n",
        "#cosas.clear()\n",
        "print(cosas)\n",
        "\n",
        "#Ordenar lista\n",
        "print(frutas)\n",
        "frutas.sort() #Los datos de la lista tienen que tener congruencia entre ellos\n",
        "print(frutas)\n"
      ],
      "execution_count": 12,
      "outputs": [
        {
          "output_type": "stream",
          "text": [
            "['cuaderno ', 2, 3.1416, True, False, ['Rojo', 'Azul']]\n",
            "['cuaderno ', 2, 3.1416, True, False, ['Rojo', 'Azul'], 'Libro', 'Lapiz']\n",
            "['cuaderno ', 2, 3.1416, True, False, ['Rojo', 'Azul'], 'Libro']\n",
            "Lapiz\n",
            "['cuaderno ', 2, True, False, ['Rojo', 'Azul'], 'Libro']\n",
            "3.1416\n",
            "['cuaderno ', 2, True, False, ['Rojo', 'Azul'], 'Libro']\n",
            "['Aguacate', 'Fresa', 'Sandia', 'kiwi', 'manzana', 'pera']\n",
            "['Aguacate', 'Fresa', 'Sandia', 'kiwi', 'manzana', 'pera']\n"
          ],
          "name": "stdout"
        }
      ]
    },
    {
      "cell_type": "code",
      "metadata": {
        "id": "N0GVNaXt7KwP",
        "outputId": "307dfa5b-d1ed-414e-a449-68e794de5b72",
        "colab": {
          "base_uri": "https://localhost:8080/",
          "height": 119
        }
      },
      "source": [
        "#Slicing\n",
        "cosas = [\"cuaderno \", 2 , 3.1416 , True , False , [\"Rojo\" , \"Azul\"]]\n",
        "print(cosas[3:5:1])\n",
        "print(cosas)\n",
        "print(cosas[0][3:5:1])\n",
        "\n",
        "numeros =[1,2,3,4,5,6,7,8,9,10,11,12,13,14,15]\n",
        "print(numeros[8:13:])\n",
        "\n",
        "#Sustituir rebanadas -2-2 ----> [1,2,3,4,5,6,7,-2,-2,13,14,15]\n",
        "numeros[7:12:] = [-2,-2]\n",
        "print(numeros)\n",
        "\n",
        "#Preguntar por existencia \n",
        "print(100 in numeros)"
      ],
      "execution_count": 18,
      "outputs": [
        {
          "output_type": "stream",
          "text": [
            "[True, False]\n",
            "['cuaderno ', 2, 3.1416, True, False, ['Rojo', 'Azul']]\n",
            "de\n",
            "[9, 10, 11, 12, 13]\n",
            "[1, 2, 3, 4, 5, 6, 7, -2, -2, 13, 14, 15]\n",
            "False\n"
          ],
          "name": "stdout"
        }
      ]
    },
    {
      "cell_type": "markdown",
      "metadata": {
        "id": "AJbEFGT_-q4_"
      },
      "source": [
        "# Listas Milti-Dimension\n",
        "Listas dentro de listas"
      ]
    },
    {
      "cell_type": "code",
      "metadata": {
        "id": "vmZuje_h-ypj",
        "outputId": "36767647-7e54-4f11-85d5-f3b4cf5a5f46",
        "colab": {
          "base_uri": "https://localhost:8080/",
          "height": 207
        }
      },
      "source": [
        "computadoras =[\"HP\", \"Mac Book Pro 17\", \"Mate Book\", \"Lenovo Legion\"]\n",
        "oss = [\"Windows 10\", \"Linux\", \"Android\", \"iOS\"]\n",
        "\n",
        "computo = [computadoras, oss]\n",
        "print(computo[0])\n",
        "print(computo[1])\n",
        "print(computo[0][2])\n",
        "print(computo[0][2][0:5])\n",
        "print(computo[0][3][5::-1])\n",
        "print(computo[0][3][-8::-1])\n",
        "print(\"Linux\" in computo[1])\n",
        "dbms = [ [\"Mysql\", \"Open Source\", False],[\"MS SQL Server\",\"de paga\", True] ]\n",
        "computo.append(dbms)\n",
        "print(computo)\n",
        "print(computo[2][0][0])\n",
        "print(computo[2][1][1])"
      ],
      "execution_count": 30,
      "outputs": [
        {
          "output_type": "stream",
          "text": [
            "['HP', 'Mac Book Pro 17', 'Mate Book', 'Lenovo Legion']\n",
            "['Windows 10', 'Linux', 'Android', 'iOS']\n",
            "Mate Book\n",
            "Mate \n",
            "ovoneL\n",
            "ovoneL\n",
            "True\n",
            "[['HP', 'Mac Book Pro 17', 'Mate Book', 'Lenovo Legion'], ['Windows 10', 'Linux', 'Android', 'iOS'], [['Mysql', 'Open Source', False], ['MS SQL Server', 'de paga', True]]]\n",
            "Mysql\n",
            "de paga\n"
          ],
          "name": "stdout"
        }
      ]
    },
    {
      "cell_type": "code",
      "metadata": {
        "id": "K0EIWvig0IQ8"
      },
      "source": [
        ""
      ],
      "execution_count": null,
      "outputs": []
    }
  ]
}