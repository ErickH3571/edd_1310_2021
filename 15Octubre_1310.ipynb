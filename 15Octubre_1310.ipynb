{
  "nbformat": 4,
  "nbformat_minor": 0,
  "metadata": {
    "colab": {
      "name": "15Octubre_1310.ipynb",
      "provenance": [],
      "toc_visible": true,
      "authorship_tag": "ABX9TyObvRTuqVY68Xi0hKbHyTYc",
      "include_colab_link": true
    },
    "kernelspec": {
      "name": "python3",
      "display_name": "Python 3"
    }
  },
  "cells": [
    {
      "cell_type": "markdown",
      "metadata": {
        "id": "view-in-github",
        "colab_type": "text"
      },
      "source": [
        "<a href=\"https://colab.research.google.com/github/ErickH3571/edd_1310_2021/blob/master/15Octubre_1310.ipynb\" target=\"_parent\"><img src=\"https://colab.research.google.com/assets/colab-badge.svg\" alt=\"Open In Colab\"/></a>"
      ]
    },
    {
      "cell_type": "markdown",
      "metadata": {
        "id": "dtNQEun8pUvt"
      },
      "source": [
        "#Modulos\n",
        "Son recursos reutilizables que contienen varias funciones que pueden ser importadas a tu codigo."
      ]
    },
    {
      "cell_type": "code",
      "metadata": {
        "id": "QZwrHAXOpXcW"
      },
      "source": [
        "\n",
        "import mi_modulo\n",
        "\n",
        "\n",
        "x = mi_modulo.sumar( 4 , 7 )\n",
        "print( x )\n",
        "mi_modulo.multiplicar(5, 3) \n"
      ],
      "execution_count": null,
      "outputs": []
    },
    {
      "cell_type": "code",
      "metadata": {
        "id": "j6SzJNGwpcip"
      },
      "source": [
        "from mi_modulo import sumar,dividir\n",
        "\n",
        "print(sumar(4,7))\n",
        "print(dividir(14,7))"
      ],
      "execution_count": null,
      "outputs": []
    },
    {
      "cell_type": "code",
      "metadata": {
        "id": "QxoGE4RDphSb"
      },
      "source": [
        "import mi_modulo as patito\n",
        "\n",
        "print(patito.sumar(4,6))"
      ],
      "execution_count": null,
      "outputs": []
    },
    {
      "cell_type": "code",
      "metadata": {
        "id": "rnPNLjJmpjzE"
      },
      "source": [
        "from joke_generator import generate\n",
        "\n",
        "generate()"
      ],
      "execution_count": null,
      "outputs": []
    },
    {
      "cell_type": "markdown",
      "metadata": {
        "id": "dRTT0PfZppoq"
      },
      "source": [
        "# Archivos \n",
        "- open(str, str)\n",
        "    1. Nombre o ruta del archivo\n",
        "    2. Dos carecteres \n",
        "      - modo de apertura del \n",
        "        archivo( r, w , a append si y solo si el archivo existe , x append si y solo si el archivo no existe)\n",
        "      - Formato del archivo (t o b)"
      ]
    },
    {
      "cell_type": "code",
      "metadata": {
        "id": "tLftwJRrpq8B"
      },
      "source": [
        "archivo = open(\"saludo.txt\",\"wt\")\n",
        "archivo.write(\"Hola mundo \\n Ola ke asee\")\n",
        "archivo.close()"
      ],
      "execution_count": 7,
      "outputs": []
    },
    {
      "cell_type": "code",
      "metadata": {
        "id": "3wRd5aKMpyuW",
        "outputId": "884b1fca-ccbb-494e-f7de-152fe4111623",
        "colab": {
          "base_uri": "https://localhost:8080/",
          "height": 136
        }
      },
      "source": [
        "otro = open('./sample_data/anscombe.json',\"rt\")\n",
        "datos = otro.read()\n",
        "#print(datos)\n",
        "otro.close()\n",
        "\n",
        "\n",
        "arch = open('frutas.txt','rt')\n",
        "data = 'ppp'\n",
        "while (data!= ''):\n",
        "  data = arch.readline()\n",
        "  print(data)\n",
        "\n",
        "\n",
        "arch.close()\n",
        "\n",
        "\n",
        "arch = open('frutas.txt','rt')\n",
        "list_frutas = arch.readlines()\n",
        "print(list_frutas)\n",
        "arch.close()"
      ],
      "execution_count": 5,
      "outputs": [
        {
          "output_type": "stream",
          "text": [
            "manzana, pera, kiwi, aguacate\n",
            "\n",
            "limon, naranja\n",
            "\n",
            "sandia, papaya\n",
            "\n",
            "['manzana, pera, kiwi, aguacate\\n', 'limon, naranja\\n', 'sandia, papaya']\n"
          ],
          "name": "stdout"
        }
      ]
    }
  ]
}